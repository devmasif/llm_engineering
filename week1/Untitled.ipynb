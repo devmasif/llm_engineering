{
 "cells": [
  {
   "cell_type": "code",
   "execution_count": 7,
   "id": "0bd601da-5ad8-43df-ae64-915c1e5a41a3",
   "metadata": {},
   "outputs": [
    {
     "name": "stdout",
     "output_type": "stream",
     "text": [
      "1\n",
      "[1, 2, 3, 4]\n"
     ]
    }
   ],
   "source": [
    "from random import randint\n",
    "\n",
    "list = [1,2,3,4]\n",
    "\n",
    "print(1)\n",
    "\n",
    "rand_list = []\n",
    "\n",
    "while list != rand_list:\n",
    "    val = randint(1,4)\n",
    "    if val not in rand_list:\n",
    "        rand_list.append(val)\n",
    "    rand_list.sort()\n",
    "\n",
    "print (rand_list)"
   ]
  }
 ],
 "metadata": {
  "kernelspec": {
   "display_name": "Python 3 (ipykernel)",
   "language": "python",
   "name": "python3"
  },
  "language_info": {
   "codemirror_mode": {
    "name": "ipython",
    "version": 3
   },
   "file_extension": ".py",
   "mimetype": "text/x-python",
   "name": "python",
   "nbconvert_exporter": "python",
   "pygments_lexer": "ipython3",
   "version": "3.11.13"
  }
 },
 "nbformat": 4,
 "nbformat_minor": 5
}
